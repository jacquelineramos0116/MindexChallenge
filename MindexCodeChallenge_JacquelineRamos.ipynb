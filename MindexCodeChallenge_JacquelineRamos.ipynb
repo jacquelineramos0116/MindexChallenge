{
 "cells": [
  {
   "cell_type": "code",
   "execution_count": 1,
   "metadata": {},
   "outputs": [
    {
     "data": {
      "text/plain": [
       "'\\n    Name: Jacqueline Ramos\\n    Description: Below is my program for the Mindex Data & Analytics Code Challenge. \\n'"
      ]
     },
     "execution_count": 1,
     "metadata": {},
     "output_type": "execute_result"
    }
   ],
   "source": [
    "\"\"\"\n",
    "    Name: Jacqueline Ramos\n",
    "    Description: Below is my program for the Mindex Data & Analytics Code Challenge. \n",
    "\"\"\""
   ]
  },
  {
   "cell_type": "code",
   "execution_count": 2,
   "metadata": {},
   "outputs": [],
   "source": [
    "import pandas as pd\n",
    "import boto3 "
   ]
  },
  {
   "cell_type": "code",
   "execution_count": 3,
   "metadata": {},
   "outputs": [],
   "source": [
    "# create an AWS client to connect to AWS S3 bucket\n",
    "client=boto3.client('s3')\n",
    "\n",
    "# list of files to download from bucket\n",
    "file_list=[\"bengals.csv\", \"boyd_receiving.csv\", \"chase_receiving.csv\", \"higgins_receiving.csv\"]\n",
    "\n",
    "# function downloads each file from 'mindex-data-analytics-code-challenge' bucket to my local folder\n",
    "def download_files(files:list):\n",
    "    for file in files:\n",
    "        client.download_file(Bucket=\"mindex-data-analytics-code-challenge\",\n",
    "        Key=file,\n",
    "        Filename=\"/Users/jacquelineramos/Documents/MindexChallenge/\"+file)\n",
    "\n",
    "download_files(file_list)\n"
   ]
  },
  {
   "cell_type": "code",
   "execution_count": 4,
   "metadata": {},
   "outputs": [],
   "source": [
    "# read each csv file into a pandas dataframe\n",
    "bengals_df = pd.read_csv('bengals.csv', sep=',')\n",
    "boyd_df = pd.read_csv('boyd_receiving.csv', sep=',')\n",
    "chase_df = pd.read_csv('chase_receiving.csv', sep=',')\n",
    "higgins_df = pd.read_csv('higgins_receiving.csv', sep=',')"
   ]
  },
  {
   "cell_type": "code",
   "execution_count": 8,
   "metadata": {},
   "outputs": [],
   "source": [
    "# rename Yards and TD column names to include receiver's name \n",
    "boyd_df.rename(columns = {'Yards': 'Boyd_Yards', 'TD': 'Boyd_TD'}, inplace=True)\n",
    "\n",
    "chase_df.rename(columns = {'Yards': 'Chase_Yards', 'TD': 'Chase_TD'}, inplace=True)\n",
    "\n",
    "higgins_df.rename(columns = {'Yards': 'Higgins_Yards', 'TD': 'Higgins_TD'}, inplace=True)\n"
   ]
  },
  {
   "cell_type": "code",
   "execution_count": 10,
   "metadata": {},
   "outputs": [],
   "source": [
    "# merge the dataframes together to contain all 3 different receivers yards and TD stats \n",
    "# along with the bengals week, opponent, location, and result stats\n",
    "merged_df=pd.merge(bengals_df, boyd_df, how='left').merge(chase_df, how='left').merge(higgins_df, how='left')\n"
   ]
  },
  {
   "cell_type": "code",
   "execution_count": 11,
   "metadata": {},
   "outputs": [
    {
     "name": "stdout",
     "output_type": "stream",
     "text": [
      "     Week Opponent Location Result  Boyd_Yards  Boyd_TD  Chase_Yards  \\\n",
      "0    PRE1       TB     Away    Win         NaN      NaN          NaN   \n",
      "1    PRE2      WSH     Away   Loss         NaN      NaN          NaN   \n",
      "2    PRE3      MIA     Home   Loss         NaN      NaN          NaN   \n",
      "3    REG1      MIN     Home    Win        32.0      0.0        101.0   \n",
      "4    REG2      CHI     Away   Loss        73.0      0.0         54.0   \n",
      "5    REG3      PIT     Away    Win        36.0      1.0         65.0   \n",
      "6    REG4      JAX     Home    Win       118.0      0.0         77.0   \n",
      "7    REG5       GB     Home   Loss        24.0      0.0        159.0   \n",
      "8    REG6      DET     Away    Win         7.0      0.0         97.0   \n",
      "9    REG7      BAL     Away    Win        39.0      0.0        201.0   \n",
      "10   REG8      NYJ     Away   Loss        69.0      1.0         32.0   \n",
      "11   REG9      CLE     Home   Loss        11.0      0.0         49.0   \n",
      "12  REG10      NaN      NaN    NaN         NaN      NaN          NaN   \n",
      "13  REG11       LV     Away    Win        49.0      0.0         32.0   \n",
      "14  REG12      PIT     Home    Win        13.0      0.0         39.0   \n",
      "15  REG13      LAC     Home   Loss        85.0      0.0         52.0   \n",
      "16  REG14       SF     Home   Loss        55.0      0.0         77.0   \n",
      "17  REG15      DEN     Away    Win        96.0      1.0          3.0   \n",
      "18  REG16      BAL     Home    Win        85.0      1.0        125.0   \n",
      "19  REG17       KC     Home    Win        36.0      1.0        266.0   \n",
      "20  REG18      CLE     Away   Loss         NaN      NaN         26.0   \n",
      "21  POST1       LV     Home    Win        26.0      1.0        116.0   \n",
      "22  POST2      TEN     Away    Win        17.0      0.0        109.0   \n",
      "23  POST3       KC     Away    Win        19.0      0.0         54.0   \n",
      "24  POST4      LAR  Neutral   Loss        48.0      0.0         89.0   \n",
      "\n",
      "    Chase_TD  Higgins_Yards  Higgins_TD  \n",
      "0        NaN            NaN         NaN  \n",
      "1        NaN            NaN         NaN  \n",
      "2        NaN            NaN         NaN  \n",
      "3        1.0           58.0         1.0  \n",
      "4        1.0           60.0         1.0  \n",
      "5        2.0            NaN         NaN  \n",
      "6        0.0            NaN         NaN  \n",
      "7        1.0           32.0         0.0  \n",
      "8        0.0           44.0         0.0  \n",
      "9        1.0           62.0         0.0  \n",
      "10       1.0           97.0         0.0  \n",
      "11       0.0           78.0         0.0  \n",
      "12       NaN            NaN         NaN  \n",
      "13       1.0           15.0         0.0  \n",
      "14       0.0          114.0         1.0  \n",
      "15       0.0          138.0         1.0  \n",
      "16       2.0          114.0         0.0  \n",
      "17       0.0           23.0         0.0  \n",
      "18       0.0          194.0         2.0  \n",
      "19       3.0           62.0         0.0  \n",
      "20       0.0            NaN         NaN  \n",
      "21       0.0           10.0         0.0  \n",
      "22       0.0           96.0         0.0  \n",
      "23       1.0          103.0         0.0  \n",
      "24       0.0          100.0         2.0  \n"
     ]
    }
   ],
   "source": [
    "# replace the 1.0 and 0.0 values with Win and Loss in the Result column\n",
    "merged_df['Result']=merged_df['Result'].replace({1.0: 'Win', 0.0: 'Loss'})\n",
    "print(merged_df)"
   ]
  }
 ],
 "metadata": {
  "interpreter": {
   "hash": "e534e48711db4d1e1c48977d0d14ff85b1f16d41bcc4fdfd88268a329b3c9d66"
  },
  "kernelspec": {
   "display_name": "",
   "language": "python",
   "name": "python3"
  },
  "language_info": {
   "codemirror_mode": {
    "name": "ipython",
    "version": 3
   },
   "file_extension": ".py",
   "mimetype": "text/x-python",
   "name": "python",
   "nbconvert_exporter": "python",
   "pygments_lexer": "ipython3",
   "version": "3.7.9"
  },
  "orig_nbformat": 4
 },
 "nbformat": 4,
 "nbformat_minor": 2
}
