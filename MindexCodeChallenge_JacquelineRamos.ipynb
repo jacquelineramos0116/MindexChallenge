{
 "cells": [
  {
   "cell_type": "code",
   "execution_count": 1,
   "metadata": {},
   "outputs": [
    {
     "data": {
      "text/plain": [
       "'\\n    Name: Jacqueline Ramos\\n    Description: Below is my program for the Mindex Data & Analytics Code Challenge. \\n'"
      ]
     },
     "execution_count": 1,
     "metadata": {},
     "output_type": "execute_result"
    }
   ],
   "source": [
    "\"\"\"\n",
    "    Name: Jacqueline Ramos\n",
    "    Description: Below is my program for the Mindex Data & Analytics Code Challenge. \n",
    "\"\"\""
   ]
  },
  {
   "cell_type": "code",
   "execution_count": 2,
   "metadata": {},
   "outputs": [],
   "source": [
    "import pandas as pd\n",
    "import boto3 "
   ]
  },
  {
   "cell_type": "code",
   "execution_count": 3,
   "metadata": {},
   "outputs": [],
   "source": [
    "# create an AWS client to connect to AWS S3 bucket\n",
    "client=boto3.client('s3')\n",
    "\n",
    "# list of files to download from bucket\n",
    "file_list=[\"bengals.csv\", \"boyd_receiving.csv\", \"chase_receiving.csv\", \"higgins_receiving.csv\"]\n",
    "\n",
    "# function downloads each file from 'mindex-data-analytics-code-challenge' bucket to my local folder\n",
    "def download_files(files:list):\n",
    "    for file in files:\n",
    "        client.download_file(Bucket=\"mindex-data-analytics-code-challenge\",\n",
    "        Key=file,\n",
    "        Filename=\"/Users/jacquelineramos/Documents/MindexChallenge/\"+file)\n",
    "\n",
    "download_files(file_list)\n"
   ]
  },
  {
   "cell_type": "code",
   "execution_count": 4,
   "metadata": {},
   "outputs": [],
   "source": [
    "# read each csv file into a pandas dataframe\n",
    "bengals_df = pd.read_csv('bengals.csv', sep=',')\n",
    "boyd_df = pd.read_csv('boyd_receiving.csv', sep=',')\n",
    "chase_df = pd.read_csv('chase_receiving.csv', sep=',')\n",
    "higgins_df = pd.read_csv('higgins_receiving.csv', sep=',')"
   ]
  }
 ],
 "metadata": {
  "interpreter": {
   "hash": "e534e48711db4d1e1c48977d0d14ff85b1f16d41bcc4fdfd88268a329b3c9d66"
  },
  "kernelspec": {
   "display_name": "",
   "language": "python",
   "name": "python3"
  },
  "language_info": {
   "codemirror_mode": {
    "name": "ipython",
    "version": 3
   },
   "file_extension": ".py",
   "mimetype": "text/x-python",
   "name": "python",
   "nbconvert_exporter": "python",
   "pygments_lexer": "ipython3",
   "version": "3.7.9"
  },
  "orig_nbformat": 4
 },
 "nbformat": 4,
 "nbformat_minor": 2
}
